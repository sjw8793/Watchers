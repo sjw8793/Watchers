{
 "cells": [
  {
   "cell_type": "markdown",
   "metadata": {},
   "source": [
    "### AWS 관측지점 데이터\n",
    "**awsp_df**: 관측 지점에 관한 데이터를 가지고 있는 데이터프레임.\n",
    "* Index: STN(지점번호)\n",
    "* STN_KO: 지역명\n",
    "* LAW_ID(법정동코드): 10자리로 된 행정구역 상 코드\n",
    "* 소재지: 소재지 주소(읍면리 단위)"
   ]
  },
  {
   "cell_type": "code",
   "execution_count": null,
   "metadata": {},
   "outputs": [],
   "source": [
    "import pandas as pd\n",
    "\n",
    "awsp_df = pd.read_excel(\"./data/aws_관측지점_위치.xlsx\").dropna()\n",
    "awsp_df"
   ]
  },
  {
   "cell_type": "code",
   "execution_count": null,
   "metadata": {},
   "outputs": [],
   "source": [
    "new_stn = pd.to_numeric(awsp_df[\"STN(지점번호)\"])\n",
    "awsp_df[\"STN(지점번호)\"] = new_stn\n",
    "awsp_df.set_index(\"STN(지점번호)\", inplace=True)\n",
    "awsp_df"
   ]
  },
  {
   "cell_type": "code",
   "execution_count": null,
   "metadata": {},
   "outputs": [],
   "source": [
    "awsp_df.loc[400]"
   ]
  },
  {
   "cell_type": "markdown",
   "metadata": {},
   "source": [
    "### 서울 침수 데이터"
   ]
  },
  {
   "cell_type": "code",
   "execution_count": null,
   "metadata": {},
   "outputs": [],
   "source": [
    "import pandas as pd\n",
    "\n",
    "seoul_df = pd.read_csv(\"./data/seoul_flood_data_2022.csv\")\n",
    "seoul_df"
   ]
  },
  {
   "cell_type": "code",
   "execution_count": null,
   "metadata": {},
   "outputs": [],
   "source": [
    "import geopandas as gpd\n",
    "\n",
    "seoul_gpdf = gpd.read_file(\"./data/Seoul_Flood_2022/서울시_2022.shp\", encoding=\"EUC-KR\")\n",
    "seoul_gpdf.head()"
   ]
  },
  {
   "cell_type": "code",
   "execution_count": null,
   "metadata": {},
   "outputs": [],
   "source": [
    "seoul_gpdf[\"centroid\"] = seoul_gpdf.centroid.to_crs(epsg=4326)\n",
    "seoul_gpdf[\"lat\"] = seoul_gpdf[\"centroid\"].x\n",
    "seoul_gpdf[\"lon\"] = seoul_gpdf[\"centroid\"].y\n",
    "seoul_gpdf = seoul_gpdf.to_crs(epsg=4326).drop(columns=['OBJECTID'])\n",
    "seoul_gpdf.head()"
   ]
  },
  {
   "cell_type": "code",
   "execution_count": null,
   "metadata": {},
   "outputs": [],
   "source": [
    "seoul_gpdf[seoul_gpdf.isna().any(axis=1)]"
   ]
  },
  {
   "cell_type": "code",
   "execution_count": null,
   "metadata": {},
   "outputs": [],
   "source": [
    "import matplotlib.pyplot as plt\n",
    "\n",
    "base = seoul_gpdf.plot(color=\"white\", edgecolor=\"k\")\n",
    "base.set_axis_off()\n",
    "base.set_title(\"Seoul Flood Map\")\n",
    "plt.show()"
   ]
  },
  {
   "cell_type": "code",
   "execution_count": null,
   "metadata": {},
   "outputs": [],
   "source": [
    "seoul_gpdf = seoul_gpdf[[\"F_SHIM\", \"lat\", \"lon\"]]\n",
    "seoul_gpdf"
   ]
  },
  {
   "cell_type": "code",
   "execution_count": null,
   "metadata": {},
   "outputs": [],
   "source": [
    "import pydeck as pdk\n",
    "\n",
    "# Define a layer to display on a map\n",
    "layer = pdk.Layer('ColumnLayer', # GridLayer, , HeatmapLayer\n",
    "                  seoul_gpdf, get_position='[lon, lat]',\n",
    "                  extruded=True, get_elevation='[F_SHIM]', elevation_scale= 1,\n",
    "                  elevation_range=[0, 10],\n",
    "                  radius= 25, #헥사곤 기둥의 반경 길이\n",
    "                  coverage=1, #헥사곤 기중의 상대적 크기 1은 꽉 채운 상태\n",
    "                  opacity= 0.4,\n",
    "                  pickable=True,\n",
    "                  auto_highlight=True\n",
    ")\n",
    "# Set the viewport location\n",
    "view_state = pdk.ViewState(\n",
    " longitude=126.96,\n",
    " latitude=37.60,\n",
    " zoom=12,\n",
    " min_zoom=5,\n",
    " max_zoom=15,\n",
    " pitch=25,\n",
    " bearing=-15)\n",
    "# Render\n",
    "r = pdk.Deck(layers=[layer], initial_view_state=view_state, map_style='mapbox://styles/mapbox/dark-v9') \n",
    "r.to_html('./result/pop_pydeck.html', notebook_display=True, iframe_width=900, iframe_height=500)\n",
    "# r.show()"
   ]
  },
  {
   "cell_type": "code",
   "execution_count": null,
   "metadata": {},
   "outputs": [],
   "source": [
    "import plotly.figure_factory as ff\n",
    "import plotly.express as px\n",
    "from keys import MAPBOX_API_KEY\n",
    "\n",
    "px.set_mapbox_access_token(MAPBOX_API_KEY)\n",
    "df = px.data.carshare()\n",
    "\n",
    "fig = ff.create_hexbin_mapbox(\n",
    "    data_frame = seoul_gpdf, lat=\"lat\", lon=\"lon\",\n",
    "    color=\"F_SHIM\", #유동인구수를 색상 단계에 반영\n",
    "    nx_hexagon=20, #헥사곤 개수 = 숫자가 커질수록 헥사곤 크기 작아짐\n",
    "    opacity=0.6, labels={\"color\":\"Point Count\"},\n",
    "    min_count=0.01, #최소 기준\n",
    "    show_original_data=True,\n",
    "    original_data_marker=dict(size=2, opacity=0.4, color=\"black\")\n",
    ")\n",
    "fig.update_layout(margin=dict(b=0, t=0, l=0, r=0))\n",
    "fig.show()"
   ]
  }
 ],
 "metadata": {
  "kernelspec": {
   "display_name": ".venv",
   "language": "python",
   "name": "python3"
  },
  "language_info": {
   "codemirror_mode": {
    "name": "ipython",
    "version": 3
   },
   "file_extension": ".py",
   "mimetype": "text/x-python",
   "name": "python",
   "nbconvert_exporter": "python",
   "pygments_lexer": "ipython3",
   "version": "3.12.4"
  }
 },
 "nbformat": 4,
 "nbformat_minor": 2
}
